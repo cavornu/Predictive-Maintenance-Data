{
  "nbformat": 4,
  "nbformat_minor": 0,
  "metadata": {
    "colab": {
      "provenance": [],
      "authorship_tag": "ABX9TyNLTNdTHyIMAfJsCGEESOPr",
      "include_colab_link": true
    },
    "kernelspec": {
      "name": "python3",
      "display_name": "Python 3"
    },
    "language_info": {
      "name": "python"
    }
  },
  "cells": [
    {
      "cell_type": "markdown",
      "metadata": {
        "id": "view-in-github",
        "colab_type": "text"
      },
      "source": [
        "<a href=\"https://colab.research.google.com/github/cavornu/Predictive-Maintenance-Data/blob/main/DataScienceEcosystem.ipynb\" target=\"_parent\"><img src=\"https://colab.research.google.com/assets/colab-badge.svg\" alt=\"Open In Colab\"/></a>"
      ]
    },
    {
      "cell_type": "markdown",
      "source": [
        "**Data Science Tools and Ecosystem**\n",
        "\n",
        "\n"
      ],
      "metadata": {
        "id": "i8AuABoJ1hd-"
      }
    },
    {
      "cell_type": "markdown",
      "source": [
        "In this notebook, Data Science Tools and Ecosystem are summarized."
      ],
      "metadata": {
        "id": "epN1F1gx28jc"
      }
    },
    {
      "cell_type": "markdown",
      "source": [
        "**Objectives:**\n",
        "\n",
        "1.   List popular languages for Data Science\n",
        "2.   Commonly used Libraries\n",
        "3.   Data Science Tools\n",
        "\n"
      ],
      "metadata": {
        "id": "Uvuwe7tLBRbH"
      }
    },
    {
      "cell_type": "markdown",
      "source": [
        "Some of the popular languages that Data Scientists use are:\n",
        "\n",
        "1.   Pythen\n",
        "2.   Java\n",
        "3.   C++\n",
        "4.   SQL\n"
      ],
      "metadata": {
        "id": "5koS5ybw3M7a"
      }
    },
    {
      "cell_type": "markdown",
      "source": [
        "Some of the commonly used libraries used by Data Scientists include:\n",
        "\n",
        "1.   TensorFlow\n",
        "2.   SciPy\n",
        "3.   Pandas\n",
        "4.   Numpy\n",
        "\n"
      ],
      "metadata": {
        "id": "iZBcKc2d4HjS"
      }
    },
    {
      "cell_type": "markdown",
      "source": [
        "| Data Science Tools    \n",
        "|----------            |\n",
        "| Jupyter Notebook     |\n",
        "| RStudio              |\n",
        "| Visual Studio Code   |"
      ],
      "metadata": {
        "id": "hRCj-g8F6U8c"
      }
    },
    {
      "cell_type": "markdown",
      "source": [
        "###Below are a few examples of evaluating arithmetic expressions in Python"
      ],
      "metadata": {
        "id": "3h_Tmv1z-iGS"
      }
    },
    {
      "cell_type": "code",
      "source": [
        "#This a simple arithmetic expression to mutiply then add integers\n",
        "(3*4)+5"
      ],
      "metadata": {
        "colab": {
          "base_uri": "https://localhost:8080/"
        },
        "id": "TSSuI4zB1xLv",
        "outputId": "ea8fef48-7574-4d4f-f269-73c2645c629f"
      },
      "execution_count": null,
      "outputs": [
        {
          "output_type": "execute_result",
          "data": {
            "text/plain": [
              "17"
            ]
          },
          "metadata": {},
          "execution_count": 3
        }
      ]
    },
    {
      "cell_type": "code",
      "source": [
        "#This will convert 200 minutes to hours by diving by 60\n",
        "200/60\n"
      ],
      "metadata": {
        "colab": {
          "base_uri": "https://localhost:8080/"
        },
        "id": "0QlAVLG7-15n",
        "outputId": "c0e65f2e-6d48-4402-f7cf-a64dec3e8ee2"
      },
      "execution_count": null,
      "outputs": [
        {
          "output_type": "execute_result",
          "data": {
            "text/plain": [
              "3.3333333333333335"
            ]
          },
          "metadata": {},
          "execution_count": 4
        }
      ]
    },
    {
      "cell_type": "code",
      "source": [],
      "metadata": {
        "id": "4eZtMN8IA2Y3"
      },
      "execution_count": null,
      "outputs": []
    },
    {
      "cell_type": "markdown",
      "source": [
        "##Author\n",
        "Name: Christian Avornu"
      ],
      "metadata": {
        "id": "7bkG7ZWdCIh9"
      }
    }
  ]
}